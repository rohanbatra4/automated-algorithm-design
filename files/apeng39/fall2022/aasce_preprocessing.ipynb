{
  "cells": [
    {
      "cell_type": "markdown",
      "source": [
        "# Importing Packages"
      ],
      "metadata": {
        "nteract": {
          "transient": {
            "deleting": false
          }
        }
      }
    },
    {
      "cell_type": "code",
      "source": [
        "import pandas as pd\n",
        "import numpy as np\n",
        "import os\n",
        "from PIL import Image\n",
        "import scipy.io"
      ],
      "outputs": [],
      "execution_count": 64,
      "metadata": {
        "jupyter": {
          "source_hidden": false,
          "outputs_hidden": false
        },
        "nteract": {
          "transient": {
            "deleting": false
          }
        },
        "gather": {
          "logged": 1667250364669
        }
      }
    },
    {
      "cell_type": "markdown",
      "source": [
        "# Preprocessing"
      ],
      "metadata": {
        "nteract": {
          "transient": {
            "deleting": false
          }
        }
      }
    },
    {
      "cell_type": "code",
      "source": [
        "# \"train\" set does not have csv files with cobb angle and landmark labels\n",
        "# data_sets = [\"test\", \"val\"]\n",
        "data_set = \"val\"\n",
        "\n",
        "# path to base directory containing jpg data\n",
        "jpg_dir = \"../datasets/aasce-original-pp/data/\" + data_set + \"/\"\n",
        "\n",
        "# path to base directory containing truth data, given the set of data (test, validation)\n",
        "data_dir = \"../datasets/aasce-original-pp/labels/\" + data_set + \"/\"\n",
        "\n",
        "# path to store .npz format data in\n",
        "npz_dir = \"../datasets_npz/aasce-original-pp/data/\""
      ],
      "outputs": [],
      "execution_count": 82,
      "metadata": {
        "jupyter": {
          "source_hidden": false,
          "outputs_hidden": false
        },
        "nteract": {
          "transient": {
            "deleting": false
          }
        },
        "gather": {
          "logged": 1667250450219
        }
      }
    },
    {
      "cell_type": "markdown",
      "source": [
        "# Getting File Names & Image Data (jpg)"
      ],
      "metadata": {
        "nteract": {
          "transient": {
            "deleting": false
          }
        }
      }
    },
    {
      "cell_type": "code",
      "source": [
        "df = pd.read_csv(data_dir + \"filenames.csv\", names=[\"filenames\"], dtype=object)"
      ],
      "outputs": [],
      "execution_count": 83,
      "metadata": {
        "jupyter": {
          "source_hidden": false,
          "outputs_hidden": false
        },
        "nteract": {
          "transient": {
            "deleting": false
          }
        },
        "gather": {
          "logged": 1667250451460
        }
      }
    },
    {
      "cell_type": "code",
      "source": [
        "def get_image(file_name):\n",
        "    \"\"\"Gets image associated with the given filename.\n",
        "\n",
        "    Parameters\n",
        "    ----------\n",
        "    file_name : str\n",
        "        contains the name of the file to load image data for\n",
        "\n",
        "    Returns\n",
        "    -------\n",
        "    data : numpy.array\n",
        "    \"\"\"\n",
        "    full_path = jpg_dir + file_name\n",
        "\n",
        "    if os.path.exists(full_path):\n",
        "        img = Image.open(full_path)\n",
        "        data = np.expand_dims(np.asarray(img), axis=2)\n",
        "        return data\n",
        "    else:\n",
        "        print(\"image not found at: \" + full_path)"
      ],
      "outputs": [],
      "execution_count": 84,
      "metadata": {
        "jupyter": {
          "source_hidden": false,
          "outputs_hidden": false
        },
        "nteract": {
          "transient": {
            "deleting": false
          }
        },
        "gather": {
          "logged": 1667250451816
        }
      }
    },
    {
      "cell_type": "code",
      "source": [
        "images = []\n",
        "\n",
        "for i in range(len(df.axes[0])):\n",
        "    filename = df.iloc[i, 0]\n",
        "    images.append(get_image(filename))\n",
        "\n",
        "df[\"image\"] = images"
      ],
      "outputs": [],
      "execution_count": 85,
      "metadata": {
        "jupyter": {
          "source_hidden": false,
          "outputs_hidden": false
        },
        "nteract": {
          "transient": {
            "deleting": false
          }
        },
        "gather": {
          "logged": 1667250463025
        }
      }
    },
    {
      "cell_type": "markdown",
      "source": [
        "# Truth Data\n",
        "- we are provided with:\n",
        "    - vertebrae landmarks (68 landmarks per image - 4 landmarks for each of 17 vertebra)\n",
        "    - cobb angle measurements (3 cobb angles per image)"
      ],
      "metadata": {
        "nteract": {
          "transient": {
            "deleting": false
          }
        }
      }
    },
    {
      "cell_type": "markdown",
      "source": [
        "## Landmarks"
      ],
      "metadata": {
        "nteract": {
          "transient": {
            "deleting": false
          }
        }
      }
    },
    {
      "cell_type": "code",
      "source": [
        "mat_instances = []\n",
        "for i in range(len(df.axes[0])):\n",
        "    filename = df.iloc[i, 0]\n",
        "    mat_instance = scipy.io.loadmat(data_dir + filename)\n",
        "    mat_instances.append(mat_instance[\"p2\"])\n",
        "\n",
        "df[\"landmark\"] = mat_instances"
      ],
      "outputs": [],
      "execution_count": 86,
      "metadata": {
        "jupyter": {
          "source_hidden": false,
          "outputs_hidden": false
        },
        "nteract": {
          "transient": {
            "deleting": false
          }
        },
        "gather": {
          "logged": 1667250471246
        }
      }
    },
    {
      "cell_type": "markdown",
      "source": [
        "## Cobb Angle"
      ],
      "metadata": {
        "nteract": {
          "transient": {
            "deleting": false
          }
        }
      }
    },
    {
      "cell_type": "code",
      "source": [
        "angles = pd.read_csv(data_dir + \"angles.csv\", names=[\"angle\" + str(i) for i in range(3)], dtype=object)\n",
        "df = df.join(angles)"
      ],
      "outputs": [],
      "execution_count": 87,
      "metadata": {
        "jupyter": {
          "source_hidden": false,
          "outputs_hidden": false
        },
        "nteract": {
          "transient": {
            "deleting": false
          }
        },
        "gather": {
          "logged": 1667250471293
        }
      }
    },
    {
      "cell_type": "code",
      "source": [
        "# dir = \"./../datasets_npz/aasce-original-pp/data/\"\n",
        "os.makedirs(dir, exist_ok=True)\n",
        "\n",
        "instances = []\n",
        "\n",
        "for i in range(len(df.axes[0])):\n",
        "    row = df.iloc[i]\n",
        "    instance = (row[\"image\"], max(row[\"angle0\"], row[\"angle1\"], row[\"angle2\"]), row[\"landmark\"])\n",
        "    \n",
        "with open(dir + \"aasce_\" + data_set + \".npz\", \"wb\") as file:\n",
        "    np.savez(file, arr=instances)"
      ],
      "outputs": [],
      "execution_count": 88,
      "metadata": {
        "jupyter": {
          "source_hidden": false,
          "outputs_hidden": false
        },
        "nteract": {
          "transient": {
            "deleting": false
          }
        },
        "gather": {
          "logged": 1667250471346
        }
      }
    }
  ],
  "metadata": {
    "kernelspec": {
      "name": "python38-azureml-pt-tf",
      "language": "python",
      "display_name": "Python 3.8 - Pytorch and Tensorflow"
    },
    "language_info": {
      "name": "python",
      "version": "3.8.13",
      "mimetype": "text/x-python",
      "codemirror_mode": {
        "name": "ipython",
        "version": 3
      },
      "pygments_lexer": "ipython3",
      "nbconvert_exporter": "python",
      "file_extension": ".py"
    },
    "orig_nbformat": 4,
    "kernel_info": {
      "name": "python38-azureml-pt-tf"
    },
    "microsoft": {
      "host": {
        "AzureML": {
          "notebookHasBeenCompleted": true
        }
      }
    },
    "nteract": {
      "version": "nteract-front-end@1.0.0"
    }
  },
  "nbformat": 4,
  "nbformat_minor": 2
}