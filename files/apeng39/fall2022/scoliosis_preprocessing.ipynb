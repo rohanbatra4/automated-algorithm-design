{
  "cells": [
    {
      "cell_type": "markdown",
      "source": [
        "# Importing Packages"
      ],
      "metadata": {
        "nteract": {
          "transient": {
            "deleting": false
          }
        }
      }
    },
    {
      "cell_type": "code",
      "source": [
        "import pandas as pd\n",
        "import numpy as np\n",
        "import os\n",
        "from PIL import Image"
      ],
      "outputs": [],
      "execution_count": 112,
      "metadata": {
        "jupyter": {
          "source_hidden": false,
          "outputs_hidden": false
        },
        "nteract": {
          "transient": {
            "deleting": false
          }
        },
        "gather": {
          "logged": 1664829388503
        }
      }
    },
    {
      "cell_type": "markdown",
      "source": [
        "# Preprocessing\n",
        "## Loading Train Data"
      ],
      "metadata": {
        "nteract": {
          "transient": {
            "deleting": false
          }
        }
      }
    },
    {
      "cell_type": "code",
      "source": [
        "# gets data from the directory and returns (image, cobb_angle)\n",
        "def get_data(file_name, cobb_angle):\n",
        "    data_dir = \"../datasets/shriners_xrays_png/overlays\"\n",
        "    full_path = \"./%s/%s\" % (data_dir, file_name)\n",
        "\n",
        "    if os.path.exists(full_path):\n",
        "        img = Image.open(full_path)\n",
        "        data = np.expand_dims(np.asarray(img), axis=2)\n",
        "        instance = (img, cobb_angle)\n",
        "        return instance\n",
        "    else:\n",
        "        print(\"image not found at: \" + full_path)"
      ],
      "outputs": [],
      "execution_count": 127,
      "metadata": {
        "jupyter": {
          "source_hidden": false,
          "outputs_hidden": false
        },
        "nteract": {
          "transient": {
            "deleting": false
          }
        },
        "gather": {
          "logged": 1664832871536
        }
      }
    },
    {
      "cell_type": "markdown",
      "source": [
        "## Loading In Truth Data"
      ],
      "metadata": {
        "nteract": {
          "transient": {
            "deleting": false
          }
        }
      }
    },
    {
      "cell_type": "code",
      "source": [
        "df = pd.read_csv(\"shriners_overlay_angles.csv\")"
      ],
      "outputs": [],
      "execution_count": 129,
      "metadata": {
        "gather": {
          "logged": 1664832873627
        }
      }
    },
    {
      "cell_type": "code",
      "source": [
        "df = df.replace(\"Nan\", np.nan)\n",
        "df.count()"
      ],
      "outputs": [
        {
          "output_type": "execute_result",
          "execution_count": 130,
          "data": {
            "text/plain": "Image                 160\nMain Thoracic         124\nLumbar                 72\nProximal Thoracic      28\nAdditional Metrics    160\ndtype: int64"
          },
          "metadata": {}
        }
      ],
      "execution_count": 130,
      "metadata": {
        "jupyter": {
          "source_hidden": false,
          "outputs_hidden": false
        },
        "nteract": {
          "transient": {
            "deleting": false
          }
        },
        "gather": {
          "logged": 1664832873933
        }
      }
    },
    {
      "cell_type": "code",
      "source": [
        "# still need to determine how to deal with nan truth values\n",
        "# for now, drop all nan values and use \"main thoracic\" because it has the most truth values\n",
        "df = df[df['Main Thoracic'].notna()].reset_index(drop=True)"
      ],
      "outputs": [],
      "execution_count": 131,
      "metadata": {
        "jupyter": {
          "source_hidden": false,
          "outputs_hidden": false
        },
        "nteract": {
          "transient": {
            "deleting": false
          }
        },
        "gather": {
          "logged": 1664832874007
        }
      }
    },
    {
      "cell_type": "code",
      "source": [
        "df.count()"
      ],
      "outputs": [
        {
          "output_type": "execute_result",
          "execution_count": 132,
          "data": {
            "text/plain": "Image                 124\nMain Thoracic         124\nLumbar                 72\nProximal Thoracic      28\nAdditional Metrics    124\ndtype: int64"
          },
          "metadata": {}
        }
      ],
      "execution_count": 132,
      "metadata": {
        "jupyter": {
          "source_hidden": false,
          "outputs_hidden": false
        },
        "nteract": {
          "transient": {
            "deleting": false
          }
        },
        "gather": {
          "logged": 1664832874558
        }
      }
    },
    {
      "cell_type": "code",
      "source": [
        "df.head()"
      ],
      "outputs": [
        {
          "output_type": "execute_result",
          "execution_count": 133,
          "data": {
            "text/plain": "                                    Image Main Thoracic Lumbar  \\\n0    9_DICOM_EXP00000_EXP0000_overlay.png          48.8    NaN   \n1   99_DICOM_EXP00000_EXP0000_overlay.png          71.0  -44.4   \n2  997_DICOM_EXP00001_EXP0000_overlay.png          83.8    NaN   \n3  995_DICOM_EXP00000_EXP0000_overlay.png          32.8  -64.7   \n4  994_DICOM_EXP00000_EXP0000_overlay.png         -38.1   43.0   \n\n  Proximal Thoracic  Additional Metrics  \n0               NaN               False  \n1               NaN               False  \n2               NaN               False  \n3               NaN                True  \n4             -14.3                True  ",
            "text/html": "<div>\n<style scoped>\n    .dataframe tbody tr th:only-of-type {\n        vertical-align: middle;\n    }\n\n    .dataframe tbody tr th {\n        vertical-align: top;\n    }\n\n    .dataframe thead th {\n        text-align: right;\n    }\n</style>\n<table border=\"1\" class=\"dataframe\">\n  <thead>\n    <tr style=\"text-align: right;\">\n      <th></th>\n      <th>Image</th>\n      <th>Main Thoracic</th>\n      <th>Lumbar</th>\n      <th>Proximal Thoracic</th>\n      <th>Additional Metrics</th>\n    </tr>\n  </thead>\n  <tbody>\n    <tr>\n      <th>0</th>\n      <td>9_DICOM_EXP00000_EXP0000_overlay.png</td>\n      <td>48.8</td>\n      <td>NaN</td>\n      <td>NaN</td>\n      <td>False</td>\n    </tr>\n    <tr>\n      <th>1</th>\n      <td>99_DICOM_EXP00000_EXP0000_overlay.png</td>\n      <td>71.0</td>\n      <td>-44.4</td>\n      <td>NaN</td>\n      <td>False</td>\n    </tr>\n    <tr>\n      <th>2</th>\n      <td>997_DICOM_EXP00001_EXP0000_overlay.png</td>\n      <td>83.8</td>\n      <td>NaN</td>\n      <td>NaN</td>\n      <td>False</td>\n    </tr>\n    <tr>\n      <th>3</th>\n      <td>995_DICOM_EXP00000_EXP0000_overlay.png</td>\n      <td>32.8</td>\n      <td>-64.7</td>\n      <td>NaN</td>\n      <td>True</td>\n    </tr>\n    <tr>\n      <th>4</th>\n      <td>994_DICOM_EXP00000_EXP0000_overlay.png</td>\n      <td>-38.1</td>\n      <td>43.0</td>\n      <td>-14.3</td>\n      <td>True</td>\n    </tr>\n  </tbody>\n</table>\n</div>"
          },
          "metadata": {}
        }
      ],
      "execution_count": 133,
      "metadata": {
        "jupyter": {
          "source_hidden": false,
          "outputs_hidden": false
        },
        "nteract": {
          "transient": {
            "deleting": false
          }
        },
        "gather": {
          "logged": 1664832874688
        }
      }
    },
    {
      "cell_type": "code",
      "source": [
        "df.tail()"
      ],
      "outputs": [
        {
          "output_type": "execute_result",
          "execution_count": 134,
          "data": {
            "text/plain": "                                       Image Main Thoracic Lumbar  \\\n119   106_DICOM_EXP00000_EXP0000_overlay.png          61.2  -44.3   \n120   104_DICOM_EXP00000_EXP0000_overlay.png         -51.4   58.7   \n121   101_DICOM_EXP00000_EXP0000_overlay.png          42.0    NaN   \n122  1004_DICOM_EXP00000_EXP0000_overlay.png         -49.6    NaN   \n123  1001_DICOM_EXP00000_EXP0000_overlay.png          57.8  -68.2   \n\n    Proximal Thoracic  Additional Metrics  \n119             -32.8                True  \n120               NaN               False  \n121               NaN               False  \n122               NaN               False  \n123               NaN               False  ",
            "text/html": "<div>\n<style scoped>\n    .dataframe tbody tr th:only-of-type {\n        vertical-align: middle;\n    }\n\n    .dataframe tbody tr th {\n        vertical-align: top;\n    }\n\n    .dataframe thead th {\n        text-align: right;\n    }\n</style>\n<table border=\"1\" class=\"dataframe\">\n  <thead>\n    <tr style=\"text-align: right;\">\n      <th></th>\n      <th>Image</th>\n      <th>Main Thoracic</th>\n      <th>Lumbar</th>\n      <th>Proximal Thoracic</th>\n      <th>Additional Metrics</th>\n    </tr>\n  </thead>\n  <tbody>\n    <tr>\n      <th>119</th>\n      <td>106_DICOM_EXP00000_EXP0000_overlay.png</td>\n      <td>61.2</td>\n      <td>-44.3</td>\n      <td>-32.8</td>\n      <td>True</td>\n    </tr>\n    <tr>\n      <th>120</th>\n      <td>104_DICOM_EXP00000_EXP0000_overlay.png</td>\n      <td>-51.4</td>\n      <td>58.7</td>\n      <td>NaN</td>\n      <td>False</td>\n    </tr>\n    <tr>\n      <th>121</th>\n      <td>101_DICOM_EXP00000_EXP0000_overlay.png</td>\n      <td>42.0</td>\n      <td>NaN</td>\n      <td>NaN</td>\n      <td>False</td>\n    </tr>\n    <tr>\n      <th>122</th>\n      <td>1004_DICOM_EXP00000_EXP0000_overlay.png</td>\n      <td>-49.6</td>\n      <td>NaN</td>\n      <td>NaN</td>\n      <td>False</td>\n    </tr>\n    <tr>\n      <th>123</th>\n      <td>1001_DICOM_EXP00000_EXP0000_overlay.png</td>\n      <td>57.8</td>\n      <td>-68.2</td>\n      <td>NaN</td>\n      <td>False</td>\n    </tr>\n  </tbody>\n</table>\n</div>"
          },
          "metadata": {}
        }
      ],
      "execution_count": 134,
      "metadata": {
        "jupyter": {
          "source_hidden": false,
          "outputs_hidden": false
        },
        "nteract": {
          "transient": {
            "deleting": false
          }
        },
        "gather": {
          "logged": 1664832874987
        }
      }
    },
    {
      "cell_type": "markdown",
      "source": [
        "# Train/Test/Validation Splits\n",
        "- train/test/validation split -> 70/15/15"
      ],
      "metadata": {
        "nteract": {
          "transient": {
            "deleting": false
          }
        }
      }
    },
    {
      "cell_type": "code",
      "source": [
        "# given a string \"x/y/z\" x=train_split, y=test_split, z=validation_split\n",
        "def get_splits(splits):\n",
        "    temp = splits.split(\"/\")\n",
        "    return (int(temp[0])/100, (int(temp[0]) + int(temp[1]))/100)"
      ],
      "outputs": [],
      "execution_count": 135,
      "metadata": {
        "jupyter": {
          "source_hidden": false,
          "outputs_hidden": false
        },
        "nteract": {
          "transient": {
            "deleting": false
          }
        },
        "gather": {
          "logged": 1664832875679
        }
      }
    },
    {
      "cell_type": "code",
      "source": [
        "# train/test/validation splits\n",
        "splits = get_splits(\"70/15/15\")\n",
        "\n",
        "# shuffle entries in the df\n",
        "# df_sample = df\n",
        "df_sample = df.sample(frac=1, random_state=1)\n",
        "display(df_sample)"
      ],
      "outputs": [
        {
          "output_type": "display_data",
          "data": {
            "text/plain": "                                      Image Main Thoracic Lumbar  \\\n48    30_DICOM_EXP00000_EXP0000_overlay.png         -78.5   58.0   \n114  121_DICOM_EXP00000_EXP0000_overlay.png          62.2  -45.2   \n73   191_DICOM_EXP00000_EXP0000_overlay.png          41.4    NaN   \n106  136_DICOM_EXP00000_EXP0000_overlay.png          51.3    NaN   \n45    37_DICOM_EXP00000_EXP0000_overlay.png          24.7  -34.9   \n..                                      ...           ...    ...   \n9    987_DICOM_EXP00000_EXP0000_overlay.png          41.1  -28.2   \n72   192_DICOM_EXP00000_EXP0000_overlay.png          59.8  -37.3   \n12   979_DICOM_EXP00000_EXP0000_overlay.png          56.3    NaN   \n107  134_DICOM_EXP00000_EXP0000_overlay.png          55.1  -41.0   \n37    58_DICOM_EXP00000_EXP0000_overlay.png          57.5  -47.8   \n\n    Proximal Thoracic  Additional Metrics  \n48                NaN                True  \n114             -26.6               False  \n73                NaN               False  \n106               NaN               False  \n45                NaN               False  \n..                ...                 ...  \n9                 NaN               False  \n72                NaN               False  \n12                NaN               False  \n107             -29.1                True  \n37                NaN               False  \n\n[124 rows x 5 columns]",
            "text/html": "<div>\n<style scoped>\n    .dataframe tbody tr th:only-of-type {\n        vertical-align: middle;\n    }\n\n    .dataframe tbody tr th {\n        vertical-align: top;\n    }\n\n    .dataframe thead th {\n        text-align: right;\n    }\n</style>\n<table border=\"1\" class=\"dataframe\">\n  <thead>\n    <tr style=\"text-align: right;\">\n      <th></th>\n      <th>Image</th>\n      <th>Main Thoracic</th>\n      <th>Lumbar</th>\n      <th>Proximal Thoracic</th>\n      <th>Additional Metrics</th>\n    </tr>\n  </thead>\n  <tbody>\n    <tr>\n      <th>48</th>\n      <td>30_DICOM_EXP00000_EXP0000_overlay.png</td>\n      <td>-78.5</td>\n      <td>58.0</td>\n      <td>NaN</td>\n      <td>True</td>\n    </tr>\n    <tr>\n      <th>114</th>\n      <td>121_DICOM_EXP00000_EXP0000_overlay.png</td>\n      <td>62.2</td>\n      <td>-45.2</td>\n      <td>-26.6</td>\n      <td>False</td>\n    </tr>\n    <tr>\n      <th>73</th>\n      <td>191_DICOM_EXP00000_EXP0000_overlay.png</td>\n      <td>41.4</td>\n      <td>NaN</td>\n      <td>NaN</td>\n      <td>False</td>\n    </tr>\n    <tr>\n      <th>106</th>\n      <td>136_DICOM_EXP00000_EXP0000_overlay.png</td>\n      <td>51.3</td>\n      <td>NaN</td>\n      <td>NaN</td>\n      <td>False</td>\n    </tr>\n    <tr>\n      <th>45</th>\n      <td>37_DICOM_EXP00000_EXP0000_overlay.png</td>\n      <td>24.7</td>\n      <td>-34.9</td>\n      <td>NaN</td>\n      <td>False</td>\n    </tr>\n    <tr>\n      <th>...</th>\n      <td>...</td>\n      <td>...</td>\n      <td>...</td>\n      <td>...</td>\n      <td>...</td>\n    </tr>\n    <tr>\n      <th>9</th>\n      <td>987_DICOM_EXP00000_EXP0000_overlay.png</td>\n      <td>41.1</td>\n      <td>-28.2</td>\n      <td>NaN</td>\n      <td>False</td>\n    </tr>\n    <tr>\n      <th>72</th>\n      <td>192_DICOM_EXP00000_EXP0000_overlay.png</td>\n      <td>59.8</td>\n      <td>-37.3</td>\n      <td>NaN</td>\n      <td>False</td>\n    </tr>\n    <tr>\n      <th>12</th>\n      <td>979_DICOM_EXP00000_EXP0000_overlay.png</td>\n      <td>56.3</td>\n      <td>NaN</td>\n      <td>NaN</td>\n      <td>False</td>\n    </tr>\n    <tr>\n      <th>107</th>\n      <td>134_DICOM_EXP00000_EXP0000_overlay.png</td>\n      <td>55.1</td>\n      <td>-41.0</td>\n      <td>-29.1</td>\n      <td>True</td>\n    </tr>\n    <tr>\n      <th>37</th>\n      <td>58_DICOM_EXP00000_EXP0000_overlay.png</td>\n      <td>57.5</td>\n      <td>-47.8</td>\n      <td>NaN</td>\n      <td>False</td>\n    </tr>\n  </tbody>\n</table>\n<p>124 rows × 5 columns</p>\n</div>"
          },
          "metadata": {}
        }
      ],
      "execution_count": 136,
      "metadata": {
        "jupyter": {
          "source_hidden": false,
          "outputs_hidden": false
        },
        "nteract": {
          "transient": {
            "deleting": false
          }
        },
        "gather": {
          "logged": 1664832876003
        }
      }
    },
    {
      "cell_type": "code",
      "source": [
        "index = df_sample.index.tolist()\n",
        "indexLen = len(index)\n",
        "\n",
        "train_indices = index[0:int(indexLen * splits[0])]\n",
        "test_indices = index[int(indexLen * splits[0]):int(indexLen * splits[1])]\n",
        "validation_indices = index[int(indexLen * splits[1]):]\n",
        "print(train_indices)"
      ],
      "outputs": [
        {
          "output_type": "stream",
          "name": "stdout",
          "text": "[48, 114, 73, 106, 45, 31, 67, 46, 98, 83, 115, 33, 100, 117, 102, 121, 2, 89, 110, 51, 65, 78, 80, 17, 85, 54, 35, 69, 88, 99, 77, 42, 105, 55, 53, 44, 62, 58, 10, 112, 32, 82, 38, 19, 123, 27, 36, 56, 39, 74, 91, 95, 40, 59, 66, 90, 23, 34, 116, 108, 4, 103, 15, 104, 41, 52, 26, 43, 24, 97, 118, 93, 49, 21, 70, 3, 111, 30, 120, 47, 92, 8, 81, 60, 0, 113]\n"
        }
      ],
      "execution_count": 137,
      "metadata": {
        "jupyter": {
          "source_hidden": false,
          "outputs_hidden": false
        },
        "nteract": {
          "transient": {
            "deleting": false
          }
        },
        "gather": {
          "logged": 1664832876220
        }
      }
    },
    {
      "cell_type": "code",
      "source": [
        "train_instances = []\n",
        "test_instances = []\n",
        "validation_instances = []\n",
        "\n",
        "for i in train_indices:\n",
        "    row = df.iloc[i]\n",
        "    train_instances.append(get_data(row[\"Image\"], row[\"Main Thoracic\"]))\n",
        "\n",
        "for i in test_indices:\n",
        "    row = df.iloc[i]\n",
        "    test_instances.append(get_data(row[\"Image\"], row[\"Main Thoracic\"]))\n",
        "\n",
        "for i in validation_indices:\n",
        "    row = df.iloc[i]\n",
        "    validation_instances.append(get_data(row[\"Image\"], row[\"Main Thoracic\"]))\n",
        "\n",
        "print(train_instances)\n",
        "print(test_instances)\n",
        "print(validation_instances)"
      ],
      "outputs": [
        {
          "output_type": "stream",
          "name": "stdout",
          "text": "[(<PIL.PngImagePlugin.PngImageFile image mode=L size=1800x3511 at 0x7FD4F912DBE0>, '-78.5'), (<PIL.PngImagePlugin.PngImageFile image mode=L size=2431x3892 at 0x7FD4FBF1CE20>, '62.2'), (<PIL.PngImagePlugin.PngImageFile image mode=L size=1567x3790 at 0x7FD4F912D670>, '41.4'), (<PIL.PngImagePlugin.PngImageFile image mode=L size=1694x4237 at 0x7FD4F93C6670>, '51.3'), (<PIL.PngImagePlugin.PngImageFile image mode=L size=2425x5747 at 0x7FD4F912D2E0>, '24.7'), (<PIL.PngImagePlugin.PngImageFile image mode=L size=2414x5675 at 0x7FD4F912D6A0>, '49.2'), (<PIL.PngImagePlugin.PngImageFile image mode=L size=2425x3847 at 0x7FD4F912D520>, '52.9'), (<PIL.PngImagePlugin.PngImageFile image mode=L size=2431x3898 at 0x7FD4F9042DF0>, '-53.4'), (<PIL.PngImagePlugin.PngImageFile image mode=L size=2431x3897 at 0x7FD4F98DCE80>, '53.4'), (<PIL.PngImagePlugin.PngImageFile image mode=L size=2026x4922 at 0x7FD4F9042F40>, '63.0'), (<PIL.PngImagePlugin.PngImageFile image mode=L size=2416x5666 at 0x7FD4F9042C70>, '61.0'), (<PIL.PngImagePlugin.PngImageFile image mode=L size=2038x4923 at 0x7FD4F90427F0>, '39.8'), (<PIL.PngImagePlugin.PngImageFile image mode=L size=2417x5670 at 0x7FD4F9042CD0>, '80.0'), (<PIL.PngImagePlugin.PngImageFile image mode=L size=2044x4921 at 0x7FD4F9042A60>, '56.3'), (<PIL.PngImagePlugin.PngImageFile image mode=L size=2033x4921 at 0x7FD4F9042940>, '37.0'), (<PIL.PngImagePlugin.PngImageFile image mode=L size=2044x4923 at 0x7FD4F90428B0>, '42.0'), (<PIL.PngImagePlugin.PngImageFile image mode=L size=2427x5711 at 0x7FD4F9042760>, '83.8'), (<PIL.PngImagePlugin.PngImageFile image mode=L size=2425x3863 at 0x7FD4F9042F70>, '53.8'), (<PIL.PngImagePlugin.PngImageFile image mode=L size=2419x5616 at 0x7FD4F9042DC0>, '59.9'), (<PIL.PngImagePlugin.PngImageFile image mode=L size=1610x3846 at 0x7FD4F9042AC0>, '64.6'), (<PIL.PngImagePlugin.PngImageFile image mode=L size=1764x3676 at 0x7FD4F9042FA0>, '-46.4'), (<PIL.PngImagePlugin.PngImageFile image mode=L size=1546x3846 at 0x7FD4F9042BE0>, '75.1'), (<PIL.PngImagePlugin.PngImageFile image mode=L size=2403x5652 at 0x7FD4F976AEB0>, '-55.2'), (<PIL.PngImagePlugin.PngImageFile image mode=L size=2425x3876 at 0x7FD4F9176580>, '76.0'), (<PIL.PngImagePlugin.PngImageFile image mode=L size=2428x5713 at 0x7FD4F91769D0>, '54.5'), (<PIL.PngImagePlugin.PngImageFile image mode=L size=1896x4626 at 0x7FD4F912DD90>, '-56.4'), (<PIL.PngImagePlugin.PngImageFile image mode=L size=2425x3832 at 0x7FD4F91766D0>, '41.0'), (<PIL.PngImagePlugin.PngImageFile image mode=L size=1896x4375 at 0x7FD4F9042A90>, '106'), (<PIL.PngImagePlugin.PngImageFile image mode=L size=1896x3567 at 0x7FD4F9042D60>, '67.2'), (<PIL.PngImagePlugin.PngImageFile image mode=L size=1896x4125 at 0x7FD4F9176700>, '-52.1'), (<PIL.PngImagePlugin.PngImageFile image mode=L size=2431x3899 at 0x7FD4F9042730>, '42.9'), (<PIL.PngImagePlugin.PngImageFile image mode=L size=1896x3261 at 0x7FD4F9300430>, '61.1'), (<PIL.PngImagePlugin.PngImageFile image mode=L size=2423x5688 at 0x7FD4F9300B50>, '57.0'), (<PIL.PngImagePlugin.PngImageFile image mode=L size=2026x4927 at 0x7FD4F9300E20>, '50.5'), (<PIL.PngImagePlugin.PngImageFile image mode=L size=1896x3707 at 0x7FD4F9300850>, '-69.5'), (<PIL.PngImagePlugin.PngImageFile image mode=L size=1746x3832 at 0x7FD4F9300F40>, '51.6'), (<PIL.PngImagePlugin.PngImageFile image mode=L size=2023x4921 at 0x7FD4F9300D90>, '54.9'), (<PIL.PngImagePlugin.PngImageFile image mode=L size=2031x4921 at 0x7FD4F9300160>, '67.9'), (<PIL.PngImagePlugin.PngImageFile image mode=L size=1896x4459 at 0x7FD4F9300970>, '37.5'), (<PIL.PngImagePlugin.PngImageFile image mode=L size=2431x3892 at 0x7FD4F9300F10>, '49.5'), (<PIL.PngImagePlugin.PngImageFile image mode=L size=2422x3866 at 0x7FD4F9300550>, '64.6'), (<PIL.PngImagePlugin.PngImageFile image mode=L size=2425x3824 at 0x7FD4F9300250>, '42.5'), (<PIL.PngImagePlugin.PngImageFile image mode=L size=2417x5727 at 0x7FD4F9300610>, '64.1'), (<PIL.PngImagePlugin.PngImageFile image mode=L size=1896x4069 at 0x7FD4F93001F0>, '-62.6'), (<PIL.PngImagePlugin.PngImageFile image mode=L size=2405x5721 at 0x7FD4F93005E0>, '57.8'), (<PIL.PngImagePlugin.PngImageFile image mode=L size=2048x2500 at 0x7FD4F9176640>, '-93.9'), (<PIL.PngImagePlugin.PngImageFile image mode=L size=2033x4920 at 0x7FD4F9042EB0>, '31.2'), (<PIL.PngImagePlugin.PngImageFile image mode=L size=2425x3829 at 0x7FD4F90DEE20>, '60.4'), (<PIL.PngImagePlugin.PngImageFile image mode=L size=2041x4925 at 0x7FD4F90DE4F0>, '30.0'), (<PIL.PngImagePlugin.PngImageFile image mode=L size=1896x4766 at 0x7FD4F90DE880>, '-51.0'), (<PIL.PngImagePlugin.PngImageFile image mode=L size=2425x3843 at 0x7FD4F90DED30>, '59.9'), (<PIL.PngImagePlugin.PngImageFile image mode=L size=2036x4924 at 0x7FD4F90DEEB0>, '20.3'), (<PIL.PngImagePlugin.PngImageFile image mode=L size=2419x5666 at 0x7FD4F90DED60>, '53.5'), (<PIL.PngImagePlugin.PngImageFile image mode=L size=2418x5736 at 0x7FD4F90DEDC0>, '57.2'), (<PIL.PngImagePlugin.PngImageFile image mode=L size=1896x3650 at 0x7FD4F90DEE80>, '-46.6'), (<PIL.PngImagePlugin.PngImageFile image mode=L size=2422x3879 at 0x7FD4F90DED90>, '42.8'), (<PIL.PngImagePlugin.PngImageFile image mode=L size=1896x3288 at 0x7FD4F90DEC70>, '-70.6'), (<PIL.PngImagePlugin.PngImageFile image mode=L size=2412x3791 at 0x7FD4F90DEC40>, '31.9'), (<PIL.PngImagePlugin.PngImageFile image mode=L size=2425x3843 at 0x7FD4F90DEB50>, '56.6'), (<PIL.PngImagePlugin.PngImageFile image mode=L size=2423x5498 at 0x7FD4F90DEBB0>, '32.3'), (<PIL.PngImagePlugin.PngImageFile image mode=L size=2417x3869 at 0x7FD4F90DEFA0>, '-38.1'), (<PIL.PngImagePlugin.PngImageFile image mode=L size=2422x3868 at 0x7FD4F90DEF40>, '56.5'), (<PIL.PngImagePlugin.PngImageFile image mode=L size=2407x5723 at 0x7FD4F90DEA90>, '91.1'), (<PIL.PngImagePlugin.PngImageFile image mode=L size=1419x3901 at 0x7FD4F90DE910>, '-63.1'), (<PIL.PngImagePlugin.PngImageFile image mode=L size=2418x5659 at 0x7FD4F90DEE50>, '57.9'), (<PIL.PngImagePlugin.PngImageFile image mode=L size=2532x4165 at 0x7FD4F90DEF70>, '62.8'), (<PIL.PngImagePlugin.PngImageFile image mode=L size=2048x2500 at 0x7FD4F90DE8E0>, '-93.9'), (<PIL.PngImagePlugin.PngImageFile image mode=L size=2510x5014 at 0x7FD4F90DE9D0>, '74.2'), (<PIL.PngImagePlugin.PngImageFile image mode=L size=1896x4710 at 0x7FD4F90DE040>, '-50.4'), (<PIL.PngImagePlugin.PngImageFile image mode=L size=2419x5544 at 0x7FD4F90DE1F0>, '55.4'), (<PIL.PngImagePlugin.PngImageFile image mode=L size=1376x3540 at 0x7FD4F90DE2E0>, '-47.5'), (<PIL.PngImagePlugin.PngImageFile image mode=L size=2425x3897 at 0x7FD4F90DE5B0>, '52.1'), (<PIL.PngImagePlugin.PngImageFile image mode=L size=1694x3846 at 0x7FD4F90DE2B0>, '55.7'), (<PIL.PngImagePlugin.PngImageFile image mode=L size=2035x4922 at 0x7FD4F90DE160>, '-43.1'), (<PIL.PngImagePlugin.PngImageFile image mode=L size=1567x3344 at 0x7FD4F90DECA0>, '47.2'), (<PIL.PngImagePlugin.PngImageFile image mode=L size=2431x3905 at 0x7FD4F90DEAF0>, '32.8'), (<PIL.PngImagePlugin.PngImageFile image mode=L size=1504x4180 at 0x7FD4F90DE400>, '53.0'), (<PIL.PngImagePlugin.PngImageFile image mode=L size=1377x3734 at 0x7FD4F90DE0D0>, '45.0'), (<PIL.PngImagePlugin.PngImageFile image mode=L size=2536x4868 at 0x7FD4F90DE1C0>, '-51.4'), (<PIL.PngImagePlugin.PngImageFile image mode=L size=2618x5079 at 0x7FD4F90DE070>, '-33.9'), (<PIL.PngImagePlugin.PngImageFile image mode=L size=2417x5707 at 0x7FD4F90DEA00>, '50.0'), (<PIL.PngImagePlugin.PngImageFile image mode=L size=2033x4924 at 0x7FD4F90DEBE0>, '-72.4'), (<PIL.PngImagePlugin.PngImageFile image mode=L size=2403x5652 at 0x7FD4F90DE520>, '-55.2'), (<PIL.PngImagePlugin.PngImageFile image mode=L size=2422x3879 at 0x7FD4F90DE760>, '58.2'), (<PIL.PngImagePlugin.PngImageFile image mode=L size=1482x3790 at 0x7FD4F90DE340>, '48.8'), (<PIL.PngImagePlugin.PngImageFile image mode=L size=2425x3793 at 0x7FD4F90DE100>, '-78.6')]\n[(<PIL.PngImagePlugin.PngImageFile image mode=L size=1482x4096 at 0x7FD4F90DE190>, '53.9'), (<PIL.PngImagePlugin.PngImageFile image mode=L size=2021x4926 at 0x7FD4F98D34C0>, '43.5'), (<PIL.PngImagePlugin.PngImageFile image mode=L size=1896x4125 at 0x7FD4F90DE7F0>, '68.8'), (<PIL.PngImagePlugin.PngImageFile image mode=L size=2425x3880 at 0x7FD4F90DE0A0>, '52.2'), (<PIL.PngImagePlugin.PngImageFile image mode=L size=2406x5672 at 0x7FD4F90DE130>, '55.4'), (<PIL.PngImagePlugin.PngImageFile image mode=L size=2697x5208 at 0x7FD4F90DE6D0>, '61.2'), (<PIL.PngImagePlugin.PngImageFile image mode=L size=2418x5671 at 0x7FD4F90DE550>, '-46.3'), (<PIL.PngImagePlugin.PngImageFile image mode=L size=2422x3880 at 0x7FD4F90DE220>, '49.3'), (<PIL.PngImagePlugin.PngImageFile image mode=L size=1896x4041 at 0x7FD4F90DEF10>, '27.0'), (<PIL.PngImagePlugin.PngImageFile image mode=L size=1896x4208 at 0x7FD4F90DE820>, '-74.1'), (<PIL.PngImagePlugin.PngImageFile image mode=L size=2034x4917 at 0x7FD4F90DEAC0>, '58.5'), (<PIL.PngImagePlugin.PngImageFile image mode=L size=2420x5759 at 0x7FD4F90DE730>, '-8.05'), (<PIL.PngImagePlugin.PngImageFile image mode=L size=2423x5617 at 0x7FD4F90DE610>, '-49.6'), (<PIL.PngImagePlugin.PngImageFile image mode=L size=2425x3872 at 0x7FD4F90DE7C0>, '38.5'), (<PIL.PngImagePlugin.PngImageFile image mode=L size=1896x3316 at 0x7FD4F90DE6A0>, '-39.6'), (<PIL.PngImagePlugin.PngImageFile image mode=L size=2425x3837 at 0x7FD4F90DE580>, '68.5'), (<PIL.PngImagePlugin.PngImageFile image mode=L size=2425x3889 at 0x7FD4F90DE8B0>, '56.6'), (<PIL.PngImagePlugin.PngImageFile image mode=L size=1461x4375 at 0x7FD4F90DE370>, '68.5'), (<PIL.PngImagePlugin.PngImageFile image mode=L size=1896x4404 at 0x7FD4F90DE970>, '42.0')]\n[(<PIL.PngImagePlugin.PngImageFile image mode=L size=2417x3873 at 0x7FD4F90DE790>, '53.2'), (<PIL.PngImagePlugin.PngImageFile image mode=L size=1896x4013 at 0x7FD4F90DE700>, '60.4'), (<PIL.PngImagePlugin.PngImageFile image mode=L size=1546x3790 at 0x7FD4F90DEA60>, '52.9'), (<PIL.PngImagePlugin.PngImageFile image mode=L size=2425x3866 at 0x7FD4F9300820>, '-41.6'), (<PIL.PngImagePlugin.PngImageFile image mode=L size=2431x3896 at 0x7FD4F90F4820>, '45.3'), (<PIL.PngImagePlugin.PngImageFile image mode=L size=1896x4125 at 0x7FD4F9042D00>, '63.0'), (<PIL.PngImagePlugin.PngImageFile image mode=L size=2418x5750 at 0x7FD4F90F4370>, '40.7'), (<PIL.PngImagePlugin.PngImageFile image mode=L size=2027x4927 at 0x7FD4F90F4670>, '37.6'), (<PIL.PngImagePlugin.PngImageFile image mode=L size=2409x5708 at 0x7FD4F90F4760>, '71.0'), (<PIL.PngImagePlugin.PngImageFile image mode=L size=2413x5651 at 0x7FD4F90F4520>, '-85.5'), (<PIL.PngImagePlugin.PngImageFile image mode=L size=2035x4928 at 0x7FD4F90F44F0>, '-55.9'), (<PIL.PngImagePlugin.PngImageFile image mode=L size=2425x3874 at 0x7FD4F90F41C0>, '27.1'), (<PIL.PngImagePlugin.PngImageFile image mode=L size=2425x3844 at 0x7FD4F90F4D00>, '38.7'), (<PIL.PngImagePlugin.PngImageFile image mode=L size=1896x3371 at 0x7FD4F90F48E0>, '30.3'), (<PIL.PngImagePlugin.PngImageFile image mode=L size=2425x3890 at 0x7FD4F90F4DF0>, '41.1'), (<PIL.PngImagePlugin.PngImageFile image mode=L size=2046x4540 at 0x7FD4F90F4610>, '59.8'), (<PIL.PngImagePlugin.PngImageFile image mode=L size=2421x5677 at 0x7FD4F90F4730>, '56.3'), (<PIL.PngImagePlugin.PngImageFile image mode=L size=2425x3845 at 0x7FD4F90F4E20>, '55.1'), (<PIL.PngImagePlugin.PngImageFile image mode=L size=2416x5696 at 0x7FD4F90F46D0>, '57.5')]\n"
        }
      ],
      "execution_count": 138,
      "metadata": {
        "jupyter": {
          "source_hidden": false,
          "outputs_hidden": false
        },
        "nteract": {
          "transient": {
            "deleting": false
          }
        },
        "gather": {
          "logged": 1664832902639
        }
      }
    },
    {
      "cell_type": "code",
      "source": [
        "# exist_ok=True -> won't throw error if directories already exist\n",
        "dir = \"./../datasets_npz/shriners_xrays_png/overlays/\"\n",
        "os.makedirs(dir, exist_ok=True)\n",
        "with open(dir + \"scoliosis_train.npz\", \"wb\") as file:\n",
        "    np.savez(file, arr=train_instances)\n",
        "\n",
        "with open(dir + \"scoliosis_test.npz\", \"wb\") as file:\n",
        "    np.savez(file, arr=test_instances)"
      ],
      "outputs": [
        {
          "output_type": "stream",
          "name": "stderr",
          "text": "/anaconda/envs/azureml_py38_PT_TF/lib/python3.8/site-packages/numpy/lib/npyio.py:713: FutureWarning: The input object of type 'PngImageFile' is an array-like implementing one of the corresponding protocols (`__array__`, `__array_interface__` or `__array_struct__`); but not a sequence (or 0-D). In the future, this object will be coerced as if it was first converted using `np.array(obj)`. To retain the old behaviour, you have to either modify the type 'PngImageFile', or assign to an empty array created with `np.empty(correct_shape, dtype=object)`.\n  val = np.asanyarray(val)\n/anaconda/envs/azureml_py38_PT_TF/lib/python3.8/site-packages/numpy/lib/npyio.py:713: VisibleDeprecationWarning: Creating an ndarray from ragged nested sequences (which is a list-or-tuple of lists-or-tuples-or ndarrays with different lengths or shapes) is deprecated. If you meant to do this, you must specify 'dtype=object' when creating the ndarray.\n  val = np.asanyarray(val)\n"
        }
      ],
      "execution_count": 140,
      "metadata": {
        "jupyter": {
          "source_hidden": false,
          "outputs_hidden": false
        },
        "nteract": {
          "transient": {
            "deleting": false
          }
        },
        "gather": {
          "logged": 1664833110625
        }
      }
    }
  ],
  "metadata": {
    "kernelspec": {
      "name": "python38-azureml-pt-tf",
      "language": "python",
      "display_name": "Python 3.8 - Pytorch and Tensorflow"
    },
    "language_info": {
      "name": "python",
      "version": "3.8.13",
      "mimetype": "text/x-python",
      "codemirror_mode": {
        "name": "ipython",
        "version": 3
      },
      "pygments_lexer": "ipython3",
      "nbconvert_exporter": "python",
      "file_extension": ".py"
    },
    "orig_nbformat": 4,
    "kernel_info": {
      "name": "python38-azureml-pt-tf"
    },
    "microsoft": {
      "host": {
        "AzureML": {
          "notebookHasBeenCompleted": true
        }
      }
    },
    "nteract": {
      "version": "nteract-front-end@1.0.0"
    }
  },
  "nbformat": 4,
  "nbformat_minor": 2
}